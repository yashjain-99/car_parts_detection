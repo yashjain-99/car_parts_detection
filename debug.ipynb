{
 "cells": [
  {
   "cell_type": "code",
   "execution_count": 36,
   "id": "cbe8db0b",
   "metadata": {},
   "outputs": [],
   "source": [
    "files=os.listdir(\"passing_criteria\")"
   ]
  },
  {
   "cell_type": "code",
   "execution_count": 41,
   "id": "c0fc9148",
   "metadata": {},
   "outputs": [
    {
     "data": {
      "text/plain": [
       "'904bd46f-218a-47ba-adce-ac2ba43fa6a2.png'"
      ]
     },
     "execution_count": 41,
     "metadata": {},
     "output_type": "execute_result"
    }
   ],
   "source": [
    "\n",
    "current_file"
   ]
  },
  {
   "cell_type": "code",
   "execution_count": 57,
   "id": "327c3bea",
   "metadata": {},
   "outputs": [],
   "source": [
    "for i in range(1):\n",
    "  current_file=\"47815cc4-28fa-4d7b-9df3-30002f5ebcb5.png\"\n",
    "  import requests\n",
    "  import json\n",
    "\n",
    "  url = \"http://localhost:8080/predictions/car_parts\"\n",
    "\n",
    "  payload = json.dumps({\n",
    "    \"file_path\":f\"/mnt/d/carScan/TS_5/passing_criteria/{current_file}\"\n",
    "  })\n",
    "\n",
    "  headers = {\n",
    "    'Content-Type': 'application/json'\n",
    "  }\n",
    "\n",
    "  response = requests.request(\"GET\", url, headers=headers, data=payload)\n",
    "\n",
    "  data = response.json()\n",
    "  if 'status' not in data:\n",
    "    print(current_file)\n",
    "    break\n",
    "  from structure import InstancesContainer\n",
    "\n",
    "  cont = InstancesContainer.build_from_json(data[\"prediction_data\"])\n",
    "  cls_mapping={0: \"wheel\", 1: \"door\", 2: \"fender\", 3: \"bonnet\", 4: \"bumper\", 5: \"grill\", 6: \"light\", 7: \"rocker_panel\", 8: \"door_knob\", 9: \"wind_shield\", 10: \"roof\", 11: \"mirror\", 12: \"window_panel\", 13: \"top_fender\", 14: \"boot\", 15: \"number_plate\"}\n",
    "  import matplotlib.pyplot as plt\n",
    "  import os\n",
    "\n",
    "  idx = 1\n",
    "  save_at = str(current_file)\n",
    "  img_arr = cv2.imread(f\"./passing_criteria/{current_file}\")\n",
    "\n",
    "  cv2.imwrite(save_at,\n",
    "      cont.annotate_image(img_arr, cls_mapping)\n",
    "  )"
   ]
  },
  {
   "cell_type": "code",
   "execution_count": 46,
   "id": "b1dc5b91",
   "metadata": {},
   "outputs": [
    {
     "data": {
      "text/plain": [
       "{'status': 'success',\n",
       " 'prediction_data': {'confidence_scores': [0.3163655698299408],\n",
       "  'class_ids': [8],\n",
       "  'bboxes': [[541, 326, 841, 467]],\n",
       "  'masks': [[[545, 389],\n",
       "    [549, 422],\n",
       "    [593, 426],\n",
       "    [632, 452],\n",
       "    [677, 464],\n",
       "    [740, 462],\n",
       "    [761, 450],\n",
       "    [773, 424],\n",
       "    [823, 422],\n",
       "    [844, 411],\n",
       "    [844, 372],\n",
       "    [838, 363],\n",
       "    [764, 359],\n",
       "    [749, 338],\n",
       "    [731, 329],\n",
       "    [641, 333],\n",
       "    [611, 346],\n",
       "    [593, 376],\n",
       "    [553, 380]]],\n",
       "  'image_size': [2320, 1080]},\n",
       " 'classes': ['wheel',\n",
       "  'door',\n",
       "  'fender',\n",
       "  'bonnet',\n",
       "  'bumper',\n",
       "  'grill',\n",
       "  'light',\n",
       "  'rocker_panel',\n",
       "  'door_knob',\n",
       "  'wind_shield',\n",
       "  'roof',\n",
       "  'mirror',\n",
       "  'window_panel',\n",
       "  'top_fender',\n",
       "  'boot',\n",
       "  'number_plate']}"
      ]
     },
     "execution_count": 46,
     "metadata": {},
     "output_type": "execute_result"
    }
   ],
   "source": [
    "data"
   ]
  },
  {
   "cell_type": "code",
   "execution_count": 25,
   "id": "1cf1d4bd",
   "metadata": {},
   "outputs": [],
   "source": []
  },
  {
   "cell_type": "code",
   "execution_count": 35,
   "id": "c21cfbcb",
   "metadata": {
    "scrolled": true
   },
   "outputs": [
    {
     "data": {
      "text/plain": [
       "True"
      ]
     },
     "execution_count": 35,
     "metadata": {},
     "output_type": "execute_result"
    }
   ],
   "source": []
  },
  {
   "cell_type": "code",
   "execution_count": 16,
   "id": "0f1dcf6e",
   "metadata": {},
   "outputs": [
    {
     "data": {
      "text/plain": [
       "(720, 1600, 3)"
      ]
     },
     "execution_count": 16,
     "metadata": {},
     "output_type": "execute_result"
    }
   ],
   "source": [
    "img_arr.shape"
   ]
  },
  {
   "cell_type": "code",
   "execution_count": 23,
   "id": "2f59e749",
   "metadata": {},
   "outputs": [
    {
     "data": {
      "text/plain": [
       "True"
      ]
     },
     "execution_count": 23,
     "metadata": {},
     "output_type": "execute_result"
    }
   ],
   "source": [
    "cv2.imwrite(\"/mnt/c/Users/Work/Desktop/car_parts_drawn/fbc2c0e-d10a-42a0-85e7-b442d5a7c101_full.jpg\", cont.annotate_image(img_arr, cls_mapping))"
   ]
  },
  {
   "cell_type": "code",
   "execution_count": null,
   "id": "1d8a7d8b",
   "metadata": {},
   "outputs": [],
   "source": []
  }
 ],
 "metadata": {
  "kernelspec": {
   "display_name": "Python 3.10.8 64-bit (microsoft store)",
   "language": "python",
   "name": "python3"
  },
  "language_info": {
   "codemirror_mode": {
    "name": "ipython",
    "version": 3
   },
   "file_extension": ".py",
   "mimetype": "text/x-python",
   "name": "python",
   "nbconvert_exporter": "python",
   "pygments_lexer": "ipython3",
   "version": "3.10.8"
  },
  "vscode": {
   "interpreter": {
    "hash": "ae44fed8f92cd5abd7ba98e99e7db970f40b29cb1787cb37dd22f1686e012692"
   }
  }
 },
 "nbformat": 4,
 "nbformat_minor": 5
}
